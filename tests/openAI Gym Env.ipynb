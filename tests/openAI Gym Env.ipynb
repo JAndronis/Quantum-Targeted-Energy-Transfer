{
 "cells": [
  {
   "cell_type": "code",
   "execution_count": 12,
   "id": "ec6115f7",
   "metadata": {},
   "outputs": [],
   "source": [
    "import gym\n",
    "import numpy as np\n",
    "from tet.Execute import Execute\n",
    "import os\n",
    "import matplotlib.pyplot as plt"
   ]
  },
  {
   "cell_type": "code",
   "execution_count": 13,
   "id": "692069ac",
   "metadata": {},
   "outputs": [],
   "source": [
    "MAX_BOSONS_DONOR = 12\n",
    "MAX_BOSONS_ACCEPTOR = 12\n",
    "CHI_MIN = -5\n",
    "CHI_MAX = 5\n",
    "COUPLING = 0.1\n",
    "OMEGA_D = 3\n",
    "OMEGA_A = -3\n",
    "MAX_T = 200"
   ]
  },
  {
   "cell_type": "code",
   "execution_count": 26,
   "id": "8a95c836",
   "metadata": {},
   "outputs": [],
   "source": [
    "class DiscreteBreather(gym.Env):\n",
    "    def __init__(self):\n",
    "        super(DiscreteBreather, self).__init__()\n",
    "        \n",
    "        # s = [xD, xA]\n",
    "        self.observation_space = gym.spaces.Box(low=np.array([0, CHI_MIN, CHI_MAX]), \n",
    "                                                high=np.array([MAX_BOSONS_ACCEPTOR, CHI_MIN, CHI_MAX]),\n",
    "                                                shape=(3,))\n",
    "        \n",
    "        self.temp_ar = np.linspace(CHI_MIN, CHI_MAX, 100)\n",
    "        self.chiA = np.random.choice(self.temp_ar)\n",
    "        self.chiD = np.random.choice(self.temp_ar)\n",
    "        \n",
    "        # a = [delta xD, delta xA]\n",
    "        self.action_space = gym.spaces.Discrete(3)\n",
    "        \n",
    "        self.reward = MAX_BOSONS_DONOR - MAX_BOSONS_DONOR\n",
    "        \n",
    "    def reset(self):\n",
    "        self.chiA = np.random.choice(self.temp_ar)\n",
    "        self.chiD = np.random.choice(self.temp_ar)\n",
    "        return np.array([MAX_BOSONS_DONOR], dtype=np.float32)\n",
    "    \n",
    "    def step(self, action):\n",
    "        if action == 0:\n",
    "            self.chiA += np.diff(self.temp_ar)[0]\n",
    "        elif action == 1:\n",
    "            self.chiD += np.diff(self.temp_ar)[0]\n",
    "        elif action == 2:\n",
    "            self.chiA -= np.diff(self.temp_ar)[0]\n",
    "        elif action == 3:\n",
    "            self.chiD -= np.diff(self.temp_ar)[0]\n",
    "        elif action > 3:\n",
    "            pass\n",
    "        \n",
    "        avgN = Execute(chiA=self.chiA,\n",
    "                       chiD=self.chiD,\n",
    "                       max_N=MAX_BOSONS_DONOR,\n",
    "                       max_t=MAX_T,\n",
    "                       coupling_lambda=COUPLING,\n",
    "                       omegaA=OMEGA_A,\n",
    "                       omegaD=OMEGA_D,\n",
    "                       data_dir=os.getcwd(),\n",
    "                       return_data=True)()\n",
    "        \n",
    "        minN = np.min(avgN)\n",
    "        \n",
    "        self.observation = np.array([minN, self.chiA, self.chiD], dtype=np.float32)\n",
    "        \n",
    "        self.reward = MAX_BOSONS_DONOR - minN\n",
    "        done = bool(self.reward >= 11)\n",
    "        \n",
    "        info = {}\n",
    "        \n",
    "        return self.observation, self.reward, done, info"
   ]
  },
  {
   "cell_type": "code",
   "execution_count": 27,
   "id": "0c5d7e75",
   "metadata": {},
   "outputs": [
    {
     "name": "stderr",
     "output_type": "stream",
     "text": [
      "/Users/jasonandronis/miniconda3/envs/ml/lib/python3.7/site-packages/gym/spaces/box.py:74: UserWarning: \u001b[33mWARN: Box bound precision lowered by casting to float32\u001b[0m\n",
      "  \"Box bound precision lowered by casting to {}\".format(self.dtype)\n"
     ]
    }
   ],
   "source": [
    "env = DiscreteBreather()"
   ]
  },
  {
   "cell_type": "code",
   "execution_count": 31,
   "id": "4ee6bf28",
   "metadata": {},
   "outputs": [
    {
     "name": "stdout",
     "output_type": "stream",
     "text": [
      "Episode done: 0.12745225541739735 - [11.872548  5.        5.      ]\n",
      "Episode done: 0.16036188804868523 - [11.839638    3.989899    0.75757575]\n",
      "Episode done: 0.11975852407376841 - [11.880241   3.8888888 -3.8888888]\n",
      "Episode done: 0.11975852407377374 - [11.880241   2.4747474 -1.5656565]\n",
      "Episode done: 0.171871272679736 - [11.828129   -3.6868687   0.15151516]\n",
      "Episode done: 0.13460697140239652 - [11.865393  -1.8686869  2.1717172]\n",
      "Episode done: 0.1197585240737542 - [11.880241    0.75757575 -3.8888888 ]\n",
      "Episode done: 0.14412385321701215 - [11.855876  -0.959596   1.1616162]\n",
      "Episode done: 0.11975852407377907 - [11.880241  -2.979798  -3.7878788]\n",
      "Episode done: 0.1520254886696506 - [11.847975   -0.959596    0.75757575]\n"
     ]
    }
   ],
   "source": [
    "def test_policy(obs):\n",
    "    if obs[0]>5:\n",
    "        return np.random.randint(1)\n",
    "    else:\n",
    "        return np.random.randint(3)\n",
    "\n",
    "eps = []\n",
    "rwds_mean = []\n",
    "# env is created, now we can use it: \n",
    "for episode in range(10): \n",
    "    observation = env.reset()\n",
    "    rwds = []\n",
    "    for step in range(10):\n",
    "#         action = env.action_space.sample()  # or given a custom model, action = policy(observation)\n",
    "        action = test_policy(observation)\n",
    "        observation, reward, done, info = env.step(action)\n",
    "        rwds.append(reward)\n",
    "    print(f'Episode done: {reward} - {observation}')\n",
    "    rwds_mean.append(np.mean(rwds))\n",
    "    eps.append(episode)"
   ]
  },
  {
   "cell_type": "code",
   "execution_count": 32,
   "id": "b6cb7a12",
   "metadata": {},
   "outputs": [
    {
     "data": {
      "image/png": "[encoded data removed]",
      "text/plain": [
       "<Figure size 432x288 with 1 Axes>"
      ]
     },
     "metadata": {
      "needs_background": "light"
     },
     "output_type": "display_data"
    }
   ],
   "source": [
    "plt.plot(eps, rwds_mean)\n",
    "plt.show()"
   ]
  },
  {
   "cell_type": "code",
   "execution_count": null,
   "id": "32dab976",
   "metadata": {},
   "outputs": [],
   "source": []
  }
 ],
 "metadata": {
  "kernelspec": {
   "display_name": "Python 3 (ipykernel)",
   "language": "python",
   "name": "python3"
  },
  "language_info": {
   "codemirror_mode": {
    "name": "ipython",
    "version": 3
   },
   "file_extension": ".py",
   "mimetype": "text/x-python",
   "name": "python",
   "nbconvert_exporter": "python",
   "pygments_lexer": "ipython3",
   "version": "3.7.11"
  }
 },
 "nbformat": 4,
 "nbformat_minor": 5
}
